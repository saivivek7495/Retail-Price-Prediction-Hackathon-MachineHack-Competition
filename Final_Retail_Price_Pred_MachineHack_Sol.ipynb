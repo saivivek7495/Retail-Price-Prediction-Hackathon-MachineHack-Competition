{
 "cells": [
  {
   "cell_type": "code",
   "execution_count": 1,
   "metadata": {},
   "outputs": [],
   "source": [
    "## MACHINE HACK HACKATHON PROJECT : PREDICTING THE PRICE OF RETAIL ITEMS"
   ]
  },
  {
   "cell_type": "code",
   "execution_count": 2,
   "metadata": {},
   "outputs": [],
   "source": [
    "# Importing Neccessary Libraries\n",
    "import os\n",
    "import pandas as pd\n",
    "import numpy as np\n",
    "\n",
    "import matplotlib.pyplot as plt\n",
    "%matplotlib inline\n",
    "import seaborn as sns\n",
    "\n",
    "import datetime\n",
    "\n",
    "from sklearn.model_selection import train_test_split\n",
    "from sklearn.linear_model import LinearRegression\n",
    "from sklearn.metrics import mean_squared_error\n",
    "\n",
    "\n",
    "import warnings\n",
    "warnings.filterwarnings(\"ignore\", category=DeprecationWarning) \n"
   ]
  },
  {
   "cell_type": "code",
   "execution_count": 3,
   "metadata": {},
   "outputs": [
    {
     "data": {
      "text/plain": [
       "'C:\\\\Users\\\\SAI VIVEK.K\\\\Retail Price Prediction_Machine Hack_Hackathon'"
      ]
     },
     "execution_count": 3,
     "metadata": {},
     "output_type": "execute_result"
    }
   ],
   "source": [
    "#Get current working directory\n",
    "\n",
    "os.getcwd()"
   ]
  },
  {
   "cell_type": "code",
   "execution_count": 4,
   "metadata": {},
   "outputs": [],
   "source": [
    "os.chdir('C:\\\\Users\\\\SAI VIVEK.K\\\\Retail Price Prediction_Machine Hack_Hackathon')"
   ]
  },
  {
   "cell_type": "code",
   "execution_count": 5,
   "metadata": {},
   "outputs": [],
   "source": [
    "# Reading the Data\n",
    "\n",
    "Retail_train = pd.read_csv(\"Train.csv\")\n",
    "Retail_test = pd.read_csv(\"Test.csv\")"
   ]
  },
  {
   "cell_type": "code",
   "execution_count": 6,
   "metadata": {},
   "outputs": [
    {
     "data": {
      "text/html": [
       "<div>\n",
       "<style scoped>\n",
       "    .dataframe tbody tr th:only-of-type {\n",
       "        vertical-align: middle;\n",
       "    }\n",
       "\n",
       "    .dataframe tbody tr th {\n",
       "        vertical-align: top;\n",
       "    }\n",
       "\n",
       "    .dataframe thead th {\n",
       "        text-align: right;\n",
       "    }\n",
       "</style>\n",
       "<table border=\"1\" class=\"dataframe\">\n",
       "  <thead>\n",
       "    <tr style=\"text-align: right;\">\n",
       "      <th></th>\n",
       "      <th>InvoiceNo</th>\n",
       "      <th>StockCode</th>\n",
       "      <th>Description</th>\n",
       "      <th>Quantity</th>\n",
       "      <th>InvoiceDate</th>\n",
       "      <th>UnitPrice</th>\n",
       "      <th>CustomerID</th>\n",
       "      <th>Country</th>\n",
       "    </tr>\n",
       "  </thead>\n",
       "  <tbody>\n",
       "    <tr>\n",
       "      <th>0</th>\n",
       "      <td>6141</td>\n",
       "      <td>1583</td>\n",
       "      <td>144</td>\n",
       "      <td>3</td>\n",
       "      <td>2011-05-06 16:54:00</td>\n",
       "      <td>3.75</td>\n",
       "      <td>14056.0</td>\n",
       "      <td>35</td>\n",
       "    </tr>\n",
       "    <tr>\n",
       "      <th>1</th>\n",
       "      <td>6349</td>\n",
       "      <td>1300</td>\n",
       "      <td>3682</td>\n",
       "      <td>6</td>\n",
       "      <td>2011-05-11 07:35:00</td>\n",
       "      <td>1.95</td>\n",
       "      <td>13098.0</td>\n",
       "      <td>35</td>\n",
       "    </tr>\n",
       "    <tr>\n",
       "      <th>2</th>\n",
       "      <td>16783</td>\n",
       "      <td>2178</td>\n",
       "      <td>1939</td>\n",
       "      <td>4</td>\n",
       "      <td>2011-11-20 13:20:00</td>\n",
       "      <td>5.95</td>\n",
       "      <td>15044.0</td>\n",
       "      <td>35</td>\n",
       "    </tr>\n",
       "    <tr>\n",
       "      <th>3</th>\n",
       "      <td>16971</td>\n",
       "      <td>2115</td>\n",
       "      <td>2983</td>\n",
       "      <td>1</td>\n",
       "      <td>2011-11-22 12:07:00</td>\n",
       "      <td>0.83</td>\n",
       "      <td>15525.0</td>\n",
       "      <td>35</td>\n",
       "    </tr>\n",
       "    <tr>\n",
       "      <th>4</th>\n",
       "      <td>6080</td>\n",
       "      <td>1210</td>\n",
       "      <td>2886</td>\n",
       "      <td>12</td>\n",
       "      <td>2011-05-06 09:00:00</td>\n",
       "      <td>1.65</td>\n",
       "      <td>13952.0</td>\n",
       "      <td>35</td>\n",
       "    </tr>\n",
       "  </tbody>\n",
       "</table>\n",
       "</div>"
      ],
      "text/plain": [
       "   InvoiceNo  StockCode  Description  Quantity          InvoiceDate  \\\n",
       "0       6141       1583          144         3  2011-05-06 16:54:00   \n",
       "1       6349       1300         3682         6  2011-05-11 07:35:00   \n",
       "2      16783       2178         1939         4  2011-11-20 13:20:00   \n",
       "3      16971       2115         2983         1  2011-11-22 12:07:00   \n",
       "4       6080       1210         2886        12  2011-05-06 09:00:00   \n",
       "\n",
       "   UnitPrice  CustomerID  Country  \n",
       "0       3.75     14056.0       35  \n",
       "1       1.95     13098.0       35  \n",
       "2       5.95     15044.0       35  \n",
       "3       0.83     15525.0       35  \n",
       "4       1.65     13952.0       35  "
      ]
     },
     "execution_count": 6,
     "metadata": {},
     "output_type": "execute_result"
    }
   ],
   "source": [
    "Retail_train.head()"
   ]
  },
  {
   "cell_type": "code",
   "execution_count": 7,
   "metadata": {},
   "outputs": [
    {
     "data": {
      "text/html": [
       "<div>\n",
       "<style scoped>\n",
       "    .dataframe tbody tr th:only-of-type {\n",
       "        vertical-align: middle;\n",
       "    }\n",
       "\n",
       "    .dataframe tbody tr th {\n",
       "        vertical-align: top;\n",
       "    }\n",
       "\n",
       "    .dataframe thead th {\n",
       "        text-align: right;\n",
       "    }\n",
       "</style>\n",
       "<table border=\"1\" class=\"dataframe\">\n",
       "  <thead>\n",
       "    <tr style=\"text-align: right;\">\n",
       "      <th></th>\n",
       "      <th>InvoiceNo</th>\n",
       "      <th>StockCode</th>\n",
       "      <th>Description</th>\n",
       "      <th>Quantity</th>\n",
       "      <th>InvoiceDate</th>\n",
       "      <th>CustomerID</th>\n",
       "      <th>Country</th>\n",
       "    </tr>\n",
       "  </thead>\n",
       "  <tbody>\n",
       "    <tr>\n",
       "      <th>0</th>\n",
       "      <td>3139</td>\n",
       "      <td>1709</td>\n",
       "      <td>1079</td>\n",
       "      <td>3</td>\n",
       "      <td>2011-02-22 15:22:00</td>\n",
       "      <td>16161.0</td>\n",
       "      <td>35</td>\n",
       "    </tr>\n",
       "    <tr>\n",
       "      <th>1</th>\n",
       "      <td>617</td>\n",
       "      <td>510</td>\n",
       "      <td>3457</td>\n",
       "      <td>1</td>\n",
       "      <td>2010-12-08 12:46:00</td>\n",
       "      <td>17341.0</td>\n",
       "      <td>35</td>\n",
       "    </tr>\n",
       "    <tr>\n",
       "      <th>2</th>\n",
       "      <td>14653</td>\n",
       "      <td>604</td>\n",
       "      <td>694</td>\n",
       "      <td>36</td>\n",
       "      <td>2011-10-25 13:53:00</td>\n",
       "      <td>15158.0</td>\n",
       "      <td>35</td>\n",
       "    </tr>\n",
       "    <tr>\n",
       "      <th>3</th>\n",
       "      <td>8634</td>\n",
       "      <td>1478</td>\n",
       "      <td>3473</td>\n",
       "      <td>2</td>\n",
       "      <td>2011-06-27 12:38:00</td>\n",
       "      <td>16033.0</td>\n",
       "      <td>35</td>\n",
       "    </tr>\n",
       "    <tr>\n",
       "      <th>4</th>\n",
       "      <td>15546</td>\n",
       "      <td>3216</td>\n",
       "      <td>871</td>\n",
       "      <td>1</td>\n",
       "      <td>2011-11-06 16:14:00</td>\n",
       "      <td>15351.0</td>\n",
       "      <td>35</td>\n",
       "    </tr>\n",
       "  </tbody>\n",
       "</table>\n",
       "</div>"
      ],
      "text/plain": [
       "   InvoiceNo  StockCode  Description  Quantity          InvoiceDate  \\\n",
       "0       3139       1709         1079         3  2011-02-22 15:22:00   \n",
       "1        617        510         3457         1  2010-12-08 12:46:00   \n",
       "2      14653        604          694        36  2011-10-25 13:53:00   \n",
       "3       8634       1478         3473         2  2011-06-27 12:38:00   \n",
       "4      15546       3216          871         1  2011-11-06 16:14:00   \n",
       "\n",
       "   CustomerID  Country  \n",
       "0     16161.0       35  \n",
       "1     17341.0       35  \n",
       "2     15158.0       35  \n",
       "3     16033.0       35  \n",
       "4     15351.0       35  "
      ]
     },
     "execution_count": 7,
     "metadata": {},
     "output_type": "execute_result"
    }
   ],
   "source": [
    "Retail_test.head()"
   ]
  },
  {
   "cell_type": "code",
   "execution_count": 8,
   "metadata": {},
   "outputs": [],
   "source": [
    "# EXPLORATORY DATA ANALYSIS\n",
    "\n",
    "# 1) Identification of Varibales and Datatypes"
   ]
  },
  {
   "cell_type": "code",
   "execution_count": 9,
   "metadata": {},
   "outputs": [
    {
     "data": {
      "text/plain": [
       "InvoiceNo        int64\n",
       "StockCode        int64\n",
       "Description      int64\n",
       "Quantity         int64\n",
       "InvoiceDate     object\n",
       "UnitPrice      float64\n",
       "CustomerID     float64\n",
       "Country          int64\n",
       "dtype: object"
      ]
     },
     "execution_count": 9,
     "metadata": {},
     "output_type": "execute_result"
    }
   ],
   "source": [
    "Retail_train.dtypes"
   ]
  },
  {
   "cell_type": "code",
   "execution_count": 10,
   "metadata": {},
   "outputs": [
    {
     "name": "stdout",
     "output_type": "stream",
     "text": [
      "<class 'pandas.core.frame.DataFrame'>\n",
      "RangeIndex: 284780 entries, 0 to 284779\n",
      "Data columns (total 8 columns):\n",
      " #   Column       Non-Null Count   Dtype  \n",
      "---  ------       --------------   -----  \n",
      " 0   InvoiceNo    284780 non-null  int64  \n",
      " 1   StockCode    284780 non-null  int64  \n",
      " 2   Description  284780 non-null  int64  \n",
      " 3   Quantity     284780 non-null  int64  \n",
      " 4   InvoiceDate  284780 non-null  object \n",
      " 5   UnitPrice    284780 non-null  float64\n",
      " 6   CustomerID   284780 non-null  float64\n",
      " 7   Country      284780 non-null  int64  \n",
      "dtypes: float64(2), int64(5), object(1)\n",
      "memory usage: 17.4+ MB\n"
     ]
    }
   ],
   "source": [
    "Retail_train.info()"
   ]
  },
  {
   "cell_type": "code",
   "execution_count": 11,
   "metadata": {},
   "outputs": [
    {
     "data": {
      "text/plain": [
       "(284780, 8)"
      ]
     },
     "execution_count": 11,
     "metadata": {},
     "output_type": "execute_result"
    }
   ],
   "source": [
    "Retail_train.shape"
   ]
  },
  {
   "cell_type": "code",
   "execution_count": 12,
   "metadata": {},
   "outputs": [
    {
     "data": {
      "text/plain": [
       "(122049, 7)"
      ]
     },
     "execution_count": 12,
     "metadata": {},
     "output_type": "execute_result"
    }
   ],
   "source": [
    "Retail_test.shape"
   ]
  },
  {
   "cell_type": "code",
   "execution_count": 13,
   "metadata": {},
   "outputs": [],
   "source": [
    "# Basic Statistics\n",
    "#Retail_train.describe()"
   ]
  },
  {
   "cell_type": "code",
   "execution_count": 14,
   "metadata": {},
   "outputs": [
    {
     "data": {
      "text/plain": [
       "InvoiceNo      0\n",
       "StockCode      0\n",
       "Description    0\n",
       "Quantity       0\n",
       "InvoiceDate    0\n",
       "UnitPrice      0\n",
       "CustomerID     0\n",
       "Country        0\n",
       "dtype: int64"
      ]
     },
     "execution_count": 14,
     "metadata": {},
     "output_type": "execute_result"
    }
   ],
   "source": [
    "# Checking for the missing values\n",
    "Retail_train.isnull().sum()"
   ]
  },
  {
   "cell_type": "code",
   "execution_count": 15,
   "metadata": {},
   "outputs": [
    {
     "data": {
      "text/plain": [
       "InvoiceNo       -0.079704\n",
       "StockCode        0.271247\n",
       "Description     -0.133967\n",
       "Quantity         0.226115\n",
       "UnitPrice      438.340508\n",
       "CustomerID       0.029524\n",
       "Country         -3.050125\n",
       "dtype: float64"
      ]
     },
     "execution_count": 15,
     "metadata": {},
     "output_type": "execute_result"
    }
   ],
   "source": [
    "#Check for skewness in the dataset\n",
    "Retail_train.skew()"
   ]
  },
  {
   "cell_type": "code",
   "execution_count": 16,
   "metadata": {},
   "outputs": [],
   "source": [
    "# 2) Graphical Univariate Analysis\n",
    "#Distribution of dependent variable\n"
   ]
  },
  {
   "cell_type": "code",
   "execution_count": 17,
   "metadata": {},
   "outputs": [
    {
     "name": "stdout",
     "output_type": "stream",
     "text": [
      "\n"
     ]
    },
    {
     "data": {
      "image/png": "[encoded data removed]",
      "text/plain": [
       "<Figure size 432x288 with 1 Axes>"
      ]
     },
     "metadata": {
      "needs_background": "light"
     },
     "output_type": "display_data"
    }
   ],
   "source": [
    "Retail_train.UnitPrice.hist(bins = 25)\n",
    "print()"
   ]
  },
  {
   "cell_type": "code",
   "execution_count": 18,
   "metadata": {},
   "outputs": [
    {
     "data": {
      "text/plain": [
       "438.3405083657168"
      ]
     },
     "execution_count": 18,
     "metadata": {},
     "output_type": "execute_result"
    }
   ],
   "source": [
    "Retail_train.UnitPrice.skew() #Highly skewed scaling needs to done before applying any regression model"
   ]
  },
  {
   "cell_type": "code",
   "execution_count": 19,
   "metadata": {},
   "outputs": [
    {
     "data": {
      "image/png": "[encoded data removed]",
      "text/plain": [
       "<Figure size 432x288 with 1 Axes>"
      ]
     },
     "metadata": {
      "needs_background": "light"
     },
     "output_type": "display_data"
    }
   ],
   "source": [
    "sns.boxplot(y = 'UnitPrice',data = Retail_train, showfliers = False)\n",
    "\n",
    "plt.show()"
   ]
  },
  {
   "cell_type": "code",
   "execution_count": 20,
   "metadata": {},
   "outputs": [
    {
     "data": {
      "image/png": "[encoded data removed]",
      "text/plain": [
       "<Figure size 1080x864 with 2 Axes>"
      ]
     },
     "metadata": {
      "needs_background": "light"
     },
     "output_type": "display_data"
    }
   ],
   "source": [
    "#Correlation Heat Map\n",
    "Corr = Retail_train.corr()\n",
    "plt.figure(figsize = (15,12))\n",
    "sns.heatmap(Corr, annot = True)\n",
    "\n",
    "plt.show()"
   ]
  },
  {
   "cell_type": "code",
   "execution_count": 21,
   "metadata": {},
   "outputs": [
    {
     "data": {
      "text/html": [
       "<div>\n",
       "<style scoped>\n",
       "    .dataframe tbody tr th:only-of-type {\n",
       "        vertical-align: middle;\n",
       "    }\n",
       "\n",
       "    .dataframe tbody tr th {\n",
       "        vertical-align: top;\n",
       "    }\n",
       "\n",
       "    .dataframe thead th {\n",
       "        text-align: right;\n",
       "    }\n",
       "</style>\n",
       "<table border=\"1\" class=\"dataframe\">\n",
       "  <thead>\n",
       "    <tr style=\"text-align: right;\">\n",
       "      <th></th>\n",
       "      <th>InvoiceNo</th>\n",
       "      <th>StockCode</th>\n",
       "      <th>Description</th>\n",
       "      <th>Quantity</th>\n",
       "      <th>UnitPrice</th>\n",
       "      <th>CustomerID</th>\n",
       "      <th>Country</th>\n",
       "    </tr>\n",
       "  </thead>\n",
       "  <tbody>\n",
       "    <tr>\n",
       "      <th>InvoiceNo</th>\n",
       "      <td>1.000000</td>\n",
       "      <td>0.086809</td>\n",
       "      <td>0.024804</td>\n",
       "      <td>-0.008363</td>\n",
       "      <td>0.007927</td>\n",
       "      <td>-0.007463</td>\n",
       "      <td>0.005432</td>\n",
       "    </tr>\n",
       "    <tr>\n",
       "      <th>StockCode</th>\n",
       "      <td>0.086809</td>\n",
       "      <td>1.000000</td>\n",
       "      <td>-0.013230</td>\n",
       "      <td>-0.000942</td>\n",
       "      <td>0.020073</td>\n",
       "      <td>0.002887</td>\n",
       "      <td>0.006242</td>\n",
       "    </tr>\n",
       "    <tr>\n",
       "      <th>Description</th>\n",
       "      <td>0.024804</td>\n",
       "      <td>-0.013230</td>\n",
       "      <td>1.000000</td>\n",
       "      <td>0.000194</td>\n",
       "      <td>-0.000424</td>\n",
       "      <td>-0.005227</td>\n",
       "      <td>-0.014791</td>\n",
       "    </tr>\n",
       "    <tr>\n",
       "      <th>Quantity</th>\n",
       "      <td>-0.008363</td>\n",
       "      <td>-0.000942</td>\n",
       "      <td>0.000194</td>\n",
       "      <td>1.000000</td>\n",
       "      <td>-0.000924</td>\n",
       "      <td>-0.002930</td>\n",
       "      <td>-0.008001</td>\n",
       "    </tr>\n",
       "    <tr>\n",
       "      <th>UnitPrice</th>\n",
       "      <td>0.007927</td>\n",
       "      <td>0.020073</td>\n",
       "      <td>-0.000424</td>\n",
       "      <td>-0.000924</td>\n",
       "      <td>1.000000</td>\n",
       "      <td>-0.004932</td>\n",
       "      <td>-0.005378</td>\n",
       "    </tr>\n",
       "    <tr>\n",
       "      <th>CustomerID</th>\n",
       "      <td>-0.007463</td>\n",
       "      <td>0.002887</td>\n",
       "      <td>-0.005227</td>\n",
       "      <td>-0.002930</td>\n",
       "      <td>-0.004932</td>\n",
       "      <td>1.000000</td>\n",
       "      <td>0.388198</td>\n",
       "    </tr>\n",
       "    <tr>\n",
       "      <th>Country</th>\n",
       "      <td>0.005432</td>\n",
       "      <td>0.006242</td>\n",
       "      <td>-0.014791</td>\n",
       "      <td>-0.008001</td>\n",
       "      <td>-0.005378</td>\n",
       "      <td>0.388198</td>\n",
       "      <td>1.000000</td>\n",
       "    </tr>\n",
       "  </tbody>\n",
       "</table>\n",
       "</div>"
      ],
      "text/plain": [
       "             InvoiceNo  StockCode  Description  Quantity  UnitPrice  \\\n",
       "InvoiceNo     1.000000   0.086809     0.024804 -0.008363   0.007927   \n",
       "StockCode     0.086809   1.000000    -0.013230 -0.000942   0.020073   \n",
       "Description   0.024804  -0.013230     1.000000  0.000194  -0.000424   \n",
       "Quantity     -0.008363  -0.000942     0.000194  1.000000  -0.000924   \n",
       "UnitPrice     0.007927   0.020073    -0.000424 -0.000924   1.000000   \n",
       "CustomerID   -0.007463   0.002887    -0.005227 -0.002930  -0.004932   \n",
       "Country       0.005432   0.006242    -0.014791 -0.008001  -0.005378   \n",
       "\n",
       "             CustomerID   Country  \n",
       "InvoiceNo     -0.007463  0.005432  \n",
       "StockCode      0.002887  0.006242  \n",
       "Description   -0.005227 -0.014791  \n",
       "Quantity      -0.002930 -0.008001  \n",
       "UnitPrice     -0.004932 -0.005378  \n",
       "CustomerID     1.000000  0.388198  \n",
       "Country        0.388198  1.000000  "
      ]
     },
     "execution_count": 21,
     "metadata": {},
     "output_type": "execute_result"
    }
   ],
   "source": [
    "corr_matrix = Retail_train.corr(method='pearson')\n",
    "corr_matrix"
   ]
  },
  {
   "cell_type": "code",
   "execution_count": 22,
   "metadata": {},
   "outputs": [
    {
     "data": {
      "text/plain": [
       "UnitPrice      1.000000\n",
       "StockCode      0.020073\n",
       "InvoiceNo      0.007927\n",
       "Description   -0.000424\n",
       "Quantity      -0.000924\n",
       "CustomerID    -0.004932\n",
       "Country       -0.005378\n",
       "Name: UnitPrice, dtype: float64"
      ]
     },
     "execution_count": 22,
     "metadata": {},
     "output_type": "execute_result"
    }
   ],
   "source": [
    "#corrleation with the Target Value\n",
    "corr_matrix.UnitPrice.sort_values(ascending=False)"
   ]
  },
  {
   "cell_type": "code",
   "execution_count": 23,
   "metadata": {},
   "outputs": [],
   "source": [
    "#Drop Irrelevant Columns\n",
    "Retail_train.drop('InvoiceNo',axis = 1,inplace = True)\n"
   ]
  },
  {
   "cell_type": "code",
   "execution_count": 24,
   "metadata": {},
   "outputs": [
    {
     "data": {
      "text/html": [
       "<div>\n",
       "<style scoped>\n",
       "    .dataframe tbody tr th:only-of-type {\n",
       "        vertical-align: middle;\n",
       "    }\n",
       "\n",
       "    .dataframe tbody tr th {\n",
       "        vertical-align: top;\n",
       "    }\n",
       "\n",
       "    .dataframe thead th {\n",
       "        text-align: right;\n",
       "    }\n",
       "</style>\n",
       "<table border=\"1\" class=\"dataframe\">\n",
       "  <thead>\n",
       "    <tr style=\"text-align: right;\">\n",
       "      <th></th>\n",
       "      <th>StockCode</th>\n",
       "      <th>Description</th>\n",
       "      <th>Quantity</th>\n",
       "      <th>InvoiceDate</th>\n",
       "      <th>UnitPrice</th>\n",
       "      <th>CustomerID</th>\n",
       "      <th>Country</th>\n",
       "    </tr>\n",
       "  </thead>\n",
       "  <tbody>\n",
       "    <tr>\n",
       "      <th>0</th>\n",
       "      <td>1583</td>\n",
       "      <td>144</td>\n",
       "      <td>3</td>\n",
       "      <td>2011-05-06 16:54:00</td>\n",
       "      <td>3.75</td>\n",
       "      <td>14056.0</td>\n",
       "      <td>35</td>\n",
       "    </tr>\n",
       "    <tr>\n",
       "      <th>1</th>\n",
       "      <td>1300</td>\n",
       "      <td>3682</td>\n",
       "      <td>6</td>\n",
       "      <td>2011-05-11 07:35:00</td>\n",
       "      <td>1.95</td>\n",
       "      <td>13098.0</td>\n",
       "      <td>35</td>\n",
       "    </tr>\n",
       "    <tr>\n",
       "      <th>2</th>\n",
       "      <td>2178</td>\n",
       "      <td>1939</td>\n",
       "      <td>4</td>\n",
       "      <td>2011-11-20 13:20:00</td>\n",
       "      <td>5.95</td>\n",
       "      <td>15044.0</td>\n",
       "      <td>35</td>\n",
       "    </tr>\n",
       "    <tr>\n",
       "      <th>3</th>\n",
       "      <td>2115</td>\n",
       "      <td>2983</td>\n",
       "      <td>1</td>\n",
       "      <td>2011-11-22 12:07:00</td>\n",
       "      <td>0.83</td>\n",
       "      <td>15525.0</td>\n",
       "      <td>35</td>\n",
       "    </tr>\n",
       "    <tr>\n",
       "      <th>4</th>\n",
       "      <td>1210</td>\n",
       "      <td>2886</td>\n",
       "      <td>12</td>\n",
       "      <td>2011-05-06 09:00:00</td>\n",
       "      <td>1.65</td>\n",
       "      <td>13952.0</td>\n",
       "      <td>35</td>\n",
       "    </tr>\n",
       "  </tbody>\n",
       "</table>\n",
       "</div>"
      ],
      "text/plain": [
       "   StockCode  Description  Quantity          InvoiceDate  UnitPrice  \\\n",
       "0       1583          144         3  2011-05-06 16:54:00       3.75   \n",
       "1       1300         3682         6  2011-05-11 07:35:00       1.95   \n",
       "2       2178         1939         4  2011-11-20 13:20:00       5.95   \n",
       "3       2115         2983         1  2011-11-22 12:07:00       0.83   \n",
       "4       1210         2886        12  2011-05-06 09:00:00       1.65   \n",
       "\n",
       "   CustomerID  Country  \n",
       "0     14056.0       35  \n",
       "1     13098.0       35  \n",
       "2     15044.0       35  \n",
       "3     15525.0       35  \n",
       "4     13952.0       35  "
      ]
     },
     "execution_count": 24,
     "metadata": {},
     "output_type": "execute_result"
    }
   ],
   "source": [
    "Retail_train.head()"
   ]
  },
  {
   "cell_type": "code",
   "execution_count": 25,
   "metadata": {},
   "outputs": [],
   "source": [
    "# 3) Non - Graphical Univariate Analysis\n",
    "# Get number of unique entries in each column\n",
    "\n",
    "\n"
   ]
  },
  {
   "cell_type": "code",
   "execution_count": 26,
   "metadata": {},
   "outputs": [
    {
     "data": {
      "text/plain": [
       "StockCode       3619\n",
       "Description     3819\n",
       "Quantity         373\n",
       "InvoiceDate    19451\n",
       "UnitPrice        524\n",
       "CustomerID      4339\n",
       "Country           37\n",
       "dtype: int64"
      ]
     },
     "execution_count": 26,
     "metadata": {},
     "output_type": "execute_result"
    }
   ],
   "source": [
    "Retail_train.nunique()"
   ]
  },
  {
   "cell_type": "code",
   "execution_count": 27,
   "metadata": {},
   "outputs": [
    {
     "data": {
      "text/plain": [
       "2011-11-28 15:54:00    385\n",
       "2011-11-14 15:27:00    384\n",
       "2011-12-05 17:17:00    361\n",
       "2011-10-31 14:09:00    311\n",
       "2011-11-23 13:39:00    307\n",
       "                      ... \n",
       "2011-06-14 15:16:00      1\n",
       "2011-08-22 11:00:00      1\n",
       "2011-11-30 15:12:00      1\n",
       "2011-05-20 14:56:00      1\n",
       "2011-01-18 15:30:00      1\n",
       "Name: InvoiceDate, Length: 19451, dtype: int64"
      ]
     },
     "execution_count": 27,
     "metadata": {},
     "output_type": "execute_result"
    }
   ],
   "source": [
    "Retail_train.InvoiceDate.value_counts()"
   ]
  },
  {
   "cell_type": "code",
   "execution_count": 28,
   "metadata": {},
   "outputs": [
    {
     "data": {
      "text/plain": [
       "35    253253\n",
       "14      6653\n",
       "13      5946\n",
       "10      5244\n",
       "30      1776\n",
       "23      1680\n",
       "3       1435\n",
       "32      1293\n",
       "26      1049\n",
       "0        883\n",
       "24       766\n",
       "18       561\n",
       "6        537\n",
       "12       489\n",
       "7        424\n",
       "31       325\n",
       "1        303\n",
       "9        273\n",
       "25       244\n",
       "19       238\n",
       "33       210\n",
       "17       185\n",
       "36       171\n",
       "29       152\n",
       "16       132\n",
       "5        106\n",
       "15       101\n",
       "22        89\n",
       "34        52\n",
       "27        47\n",
       "11        40\n",
       "20        34\n",
       "8         26\n",
       "21        25\n",
       "4         20\n",
       "2         10\n",
       "28         8\n",
       "Name: Country, dtype: int64"
      ]
     },
     "execution_count": 28,
     "metadata": {},
     "output_type": "execute_result"
    }
   ],
   "source": [
    "Retail_train.Country.value_counts(ascending = False)\n"
   ]
  },
  {
   "cell_type": "code",
   "execution_count": 29,
   "metadata": {},
   "outputs": [],
   "source": [
    "# DATA PREPROCESSING AND CLEANING"
   ]
  },
  {
   "cell_type": "code",
   "execution_count": 30,
   "metadata": {},
   "outputs": [
    {
     "data": {
      "text/plain": [
       "StockCode        int64\n",
       "Description      int64\n",
       "Quantity         int64\n",
       "InvoiceDate     object\n",
       "UnitPrice      float64\n",
       "CustomerID     float64\n",
       "Country          int64\n",
       "dtype: object"
      ]
     },
     "execution_count": 30,
     "metadata": {},
     "output_type": "execute_result"
    }
   ],
   "source": [
    "Retail_train.dtypes"
   ]
  },
  {
   "cell_type": "code",
   "execution_count": 31,
   "metadata": {},
   "outputs": [
    {
     "name": "stdout",
     "output_type": "stream",
     "text": [
      "['InvoiceDate']\n",
      "['StockCode', 'Description', 'Quantity', 'UnitPrice', 'CustomerID', 'Country']\n"
     ]
    }
   ],
   "source": [
    "#Seperate Categorical and Numerical Columns ## Fetch categorical and numerical columns\n",
    "cat_cols = Retail_train.select_dtypes(include=['object','category']).columns.tolist()\n",
    "print(cat_cols)\n",
    "\n",
    "num_cols = Retail_train.select_dtypes(include=['int64','float64']).columns.tolist()\n",
    "print(num_cols)"
   ]
  },
  {
   "cell_type": "code",
   "execution_count": 32,
   "metadata": {},
   "outputs": [],
   "source": [
    "# Convert InvoiceDate to date-time\n",
    "Retail_train['InvoiceDate'] = pd.to_datetime(Retail_train['InvoiceDate'], format='%Y-%m-%d %H:%M:%S').dt.year\n",
    "#Retail_train['InvoiceDate'] = Retail_train['InvoiceDate'].dt.strftime('%Y-%m-%d %H:%M:%S')\n",
    "#Retail_train['InvoiceDate'] = pd.to_datetime(Retail_train['InvoiceDate'], format='%Y-%m-%d %H:%M:%S')"
   ]
  },
  {
   "cell_type": "code",
   "execution_count": 33,
   "metadata": {},
   "outputs": [
    {
     "data": {
      "text/html": [
       "<div>\n",
       "<style scoped>\n",
       "    .dataframe tbody tr th:only-of-type {\n",
       "        vertical-align: middle;\n",
       "    }\n",
       "\n",
       "    .dataframe tbody tr th {\n",
       "        vertical-align: top;\n",
       "    }\n",
       "\n",
       "    .dataframe thead th {\n",
       "        text-align: right;\n",
       "    }\n",
       "</style>\n",
       "<table border=\"1\" class=\"dataframe\">\n",
       "  <thead>\n",
       "    <tr style=\"text-align: right;\">\n",
       "      <th></th>\n",
       "      <th>StockCode</th>\n",
       "      <th>Description</th>\n",
       "      <th>Quantity</th>\n",
       "      <th>InvoiceDate</th>\n",
       "      <th>UnitPrice</th>\n",
       "      <th>CustomerID</th>\n",
       "      <th>Country</th>\n",
       "    </tr>\n",
       "  </thead>\n",
       "  <tbody>\n",
       "    <tr>\n",
       "      <th>0</th>\n",
       "      <td>1583</td>\n",
       "      <td>144</td>\n",
       "      <td>3</td>\n",
       "      <td>2011</td>\n",
       "      <td>3.75</td>\n",
       "      <td>14056.0</td>\n",
       "      <td>35</td>\n",
       "    </tr>\n",
       "    <tr>\n",
       "      <th>1</th>\n",
       "      <td>1300</td>\n",
       "      <td>3682</td>\n",
       "      <td>6</td>\n",
       "      <td>2011</td>\n",
       "      <td>1.95</td>\n",
       "      <td>13098.0</td>\n",
       "      <td>35</td>\n",
       "    </tr>\n",
       "    <tr>\n",
       "      <th>2</th>\n",
       "      <td>2178</td>\n",
       "      <td>1939</td>\n",
       "      <td>4</td>\n",
       "      <td>2011</td>\n",
       "      <td>5.95</td>\n",
       "      <td>15044.0</td>\n",
       "      <td>35</td>\n",
       "    </tr>\n",
       "    <tr>\n",
       "      <th>3</th>\n",
       "      <td>2115</td>\n",
       "      <td>2983</td>\n",
       "      <td>1</td>\n",
       "      <td>2011</td>\n",
       "      <td>0.83</td>\n",
       "      <td>15525.0</td>\n",
       "      <td>35</td>\n",
       "    </tr>\n",
       "    <tr>\n",
       "      <th>4</th>\n",
       "      <td>1210</td>\n",
       "      <td>2886</td>\n",
       "      <td>12</td>\n",
       "      <td>2011</td>\n",
       "      <td>1.65</td>\n",
       "      <td>13952.0</td>\n",
       "      <td>35</td>\n",
       "    </tr>\n",
       "  </tbody>\n",
       "</table>\n",
       "</div>"
      ],
      "text/plain": [
       "   StockCode  Description  Quantity  InvoiceDate  UnitPrice  CustomerID  \\\n",
       "0       1583          144         3         2011       3.75     14056.0   \n",
       "1       1300         3682         6         2011       1.95     13098.0   \n",
       "2       2178         1939         4         2011       5.95     15044.0   \n",
       "3       2115         2983         1         2011       0.83     15525.0   \n",
       "4       1210         2886        12         2011       1.65     13952.0   \n",
       "\n",
       "   Country  \n",
       "0       35  \n",
       "1       35  \n",
       "2       35  \n",
       "3       35  \n",
       "4       35  "
      ]
     },
     "execution_count": 33,
     "metadata": {},
     "output_type": "execute_result"
    }
   ],
   "source": [
    "Retail_train.head()"
   ]
  },
  {
   "cell_type": "code",
   "execution_count": 34,
   "metadata": {},
   "outputs": [
    {
     "data": {
      "text/plain": [
       "StockCode        int64\n",
       "Description      int64\n",
       "Quantity         int64\n",
       "InvoiceDate      int64\n",
       "UnitPrice      float64\n",
       "CustomerID     float64\n",
       "Country          int64\n",
       "dtype: object"
      ]
     },
     "execution_count": 34,
     "metadata": {},
     "output_type": "execute_result"
    }
   ],
   "source": [
    "Retail_train.dtypes"
   ]
  },
  {
   "cell_type": "code",
   "execution_count": 35,
   "metadata": {},
   "outputs": [],
   "source": [
    "# FEATURE ENGINEERING"
   ]
  },
  {
   "cell_type": "code",
   "execution_count": 36,
   "metadata": {},
   "outputs": [],
   "source": [
    "#X, y = Retail_train.loc[:,Retail_train.columns!='UnitPrice'].values, Retail_train.loc[:,'UnitPrice'].values"
   ]
  },
  {
   "cell_type": "code",
   "execution_count": 37,
   "metadata": {},
   "outputs": [],
   "source": [
    "#Seperating Target Varibale into y\n",
    "y = Retail_train['UnitPrice']\n",
    "X = Retail_train.drop('UnitPrice',axis = 1)"
   ]
  },
  {
   "cell_type": "code",
   "execution_count": 38,
   "metadata": {},
   "outputs": [],
   "source": [
    "# Applying Power Transformer to the Target variable (y) as normality is desired/make data more Gaussian-Like\n",
    "#from sklearn.preprocessing import PowerTransformer\n",
    "#y = y.values.reshape(-1,1)\n",
    "# power transform the raw data\n",
    "#power = PowerTransformer(method='yeo-johnson', standardize=True)\n",
    "#y = power.fit_transform(y)"
   ]
  },
  {
   "cell_type": "code",
   "execution_count": 39,
   "metadata": {},
   "outputs": [],
   "source": [
    "# Split data into train and test format\n",
    "from sklearn.model_selection import train_test_split\n",
    "X_train, X_test, y_train, y_test = train_test_split(X, y, test_size=0.2, random_state= 123)"
   ]
  },
  {
   "cell_type": "code",
   "execution_count": 40,
   "metadata": {},
   "outputs": [
    {
     "name": "stdout",
     "output_type": "stream",
     "text": [
      "(227824, 6)\n",
      "(56956, 6)\n"
     ]
    }
   ],
   "source": [
    "print(X_train.shape)\n",
    "print(X_test.shape)"
   ]
  },
  {
   "cell_type": "code",
   "execution_count": 41,
   "metadata": {},
   "outputs": [
    {
     "name": "stdout",
     "output_type": "stream",
     "text": [
      "(227824,)\n",
      "(56956,)\n"
     ]
    }
   ],
   "source": [
    "print(y_train.shape)\n",
    "print(y_test.shape)"
   ]
  },
  {
   "cell_type": "code",
   "execution_count": 42,
   "metadata": {},
   "outputs": [],
   "source": [
    "# MACHINE LEARNING MODEL BUILDING"
   ]
  },
  {
   "cell_type": "code",
   "execution_count": 43,
   "metadata": {},
   "outputs": [],
   "source": [
    "#Columns to use for Modelling\n",
    "num_attr = list(Retail_train.select_dtypes(\"int64\",\"float64\").columns)"
   ]
  },
  {
   "cell_type": "code",
   "execution_count": 44,
   "metadata": {},
   "outputs": [
    {
     "data": {
      "text/plain": [
       "['StockCode', 'Description', 'Quantity', 'InvoiceDate', 'Country']"
      ]
     },
     "execution_count": 44,
     "metadata": {},
     "output_type": "execute_result"
    }
   ],
   "source": [
    "num_attr"
   ]
  },
  {
   "cell_type": "code",
   "execution_count": 45,
   "metadata": {},
   "outputs": [],
   "source": [
    "from sklearn.linear_model import LinearRegression\n",
    "from sklearn.linear_model import Lasso\n",
    "from sklearn.linear_model import ElasticNet\n",
    "from sklearn.tree import DecisionTreeRegressor\n",
    "from sklearn.neighbors import KNeighborsRegressor\n",
    "from sklearn.ensemble import GradientBoostingRegressor\n",
    "from sklearn.preprocessing import MinMaxScaler\n",
    "from sklearn.model_selection import KFold\n",
    "from sklearn.model_selection import cross_val_score\n",
    "\n",
    "\n",
    "import warnings\n",
    "warnings.filterwarnings(\"ignore\")"
   ]
  },
  {
   "cell_type": "code",
   "execution_count": 46,
   "metadata": {},
   "outputs": [],
   "source": [
    "# Intiating the Pipelines\n",
    "from sklearn.pipeline import Pipeline\n",
    "from sklearn.compose import ColumnTransformer"
   ]
  },
  {
   "cell_type": "code",
   "execution_count": 47,
   "metadata": {},
   "outputs": [],
   "source": [
    "numeric_transformer = Pipeline(steps=[\n",
    "    ('scaler', MinMaxScaler())])\n",
    "\n"
   ]
  },
  {
   "cell_type": "code",
   "execution_count": 48,
   "metadata": {},
   "outputs": [],
   "source": [
    "preprocessor = ColumnTransformer(\n",
    "    transformers=[\n",
    "        ('num', numeric_transformer, num_attr),\n",
    "         ])"
   ]
  },
  {
   "cell_type": "code",
   "execution_count": 49,
   "metadata": {},
   "outputs": [],
   "source": [
    "Model_logreg = Pipeline(steps=[('preprocessor', preprocessor),\n",
    "                      ('regressor', LinearRegression())])"
   ]
  },
  {
   "cell_type": "code",
   "execution_count": 50,
   "metadata": {},
   "outputs": [],
   "source": [
    "from sklearn.metrics import mean_squared_error"
   ]
  },
  {
   "cell_type": "code",
   "execution_count": 51,
   "metadata": {},
   "outputs": [
    {
     "data": {
      "text/plain": [
       "Pipeline(steps=[('preprocessor',\n",
       "                 ColumnTransformer(transformers=[('num',\n",
       "                                                  Pipeline(steps=[('scaler',\n",
       "                                                                   MinMaxScaler())]),\n",
       "                                                  ['StockCode', 'Description',\n",
       "                                                   'Quantity', 'InvoiceDate',\n",
       "                                                   'Country'])])),\n",
       "                ('regressor', LinearRegression())])"
      ]
     },
     "execution_count": 51,
     "metadata": {},
     "output_type": "execute_result"
    }
   ],
   "source": [
    "#BUILD LINEAR REGRESSION MODEL 1\n",
    "Model_logreg.fit(X_train, y_train)"
   ]
  },
  {
   "cell_type": "code",
   "execution_count": 52,
   "metadata": {},
   "outputs": [
    {
     "name": "stdout",
     "output_type": "stream",
     "text": [
      "0.002080815270732783\n",
      "0.00017247448970780788\n"
     ]
    }
   ],
   "source": [
    "train_pred = Model_logreg.predict(X_train)\n",
    "test_pred = Model_logreg.predict(X_test)\n",
    "\n",
    "print(Model_logreg.score(X_train, y_train))\n",
    "print(Model_logreg.score(X_test, y_test))\n"
   ]
  },
  {
   "cell_type": "code",
   "execution_count": 53,
   "metadata": {},
   "outputs": [
    {
     "data": {
      "text/plain": [
       "array([2.90952264, 3.339657  , 5.27294906, ..., 2.38782275, 2.83840545,\n",
       "       3.56034869])"
      ]
     },
     "execution_count": 53,
     "metadata": {},
     "output_type": "execute_result"
    }
   ],
   "source": [
    "test_pred"
   ]
  },
  {
   "cell_type": "code",
   "execution_count": 54,
   "metadata": {},
   "outputs": [],
   "source": [
    "#Defining Custom Function \n",
    "def convert_for_sklearn(label_list):\n",
    "    return [1 if i == 1 else 0 for i in label_list]\n",
    "\n",
    "\n",
    "def rmse_metric(y_true, y_pred):\n",
    "    \n",
    "    y_test_scoring = convert_for_sklearn(y_true)\n",
    "    test_pred_scoring = convert_for_sklearn(y_pred)\n",
    "\n",
    "    rmse = mean_squared_error(y_true= y_test_scoring, y_pred = test_pred_scoring)\n",
    "    \n",
    "    print(\"Test RMSE_score: \",rmse)"
   ]
  },
  {
   "cell_type": "code",
   "execution_count": 55,
   "metadata": {},
   "outputs": [
    {
     "name": "stdout",
     "output_type": "stream",
     "text": [
      "Test RMSE_score:  0.0002458037783552216\n"
     ]
    }
   ],
   "source": [
    "rmse_metric(y_true = y_test, y_pred = test_pred)"
   ]
  },
  {
   "cell_type": "code",
   "execution_count": 56,
   "metadata": {},
   "outputs": [
    {
     "data": {
      "text/html": [
       "<div>\n",
       "<style scoped>\n",
       "    .dataframe tbody tr th:only-of-type {\n",
       "        vertical-align: middle;\n",
       "    }\n",
       "\n",
       "    .dataframe tbody tr th {\n",
       "        vertical-align: top;\n",
       "    }\n",
       "\n",
       "    .dataframe thead th {\n",
       "        text-align: right;\n",
       "    }\n",
       "</style>\n",
       "<table border=\"1\" class=\"dataframe\">\n",
       "  <thead>\n",
       "    <tr style=\"text-align: right;\">\n",
       "      <th></th>\n",
       "      <th>InvoiceNo</th>\n",
       "      <th>StockCode</th>\n",
       "      <th>Description</th>\n",
       "      <th>Quantity</th>\n",
       "      <th>InvoiceDate</th>\n",
       "      <th>CustomerID</th>\n",
       "      <th>Country</th>\n",
       "    </tr>\n",
       "  </thead>\n",
       "  <tbody>\n",
       "    <tr>\n",
       "      <th>0</th>\n",
       "      <td>3139</td>\n",
       "      <td>1709</td>\n",
       "      <td>1079</td>\n",
       "      <td>3</td>\n",
       "      <td>2011-02-22 15:22:00</td>\n",
       "      <td>16161.0</td>\n",
       "      <td>35</td>\n",
       "    </tr>\n",
       "    <tr>\n",
       "      <th>1</th>\n",
       "      <td>617</td>\n",
       "      <td>510</td>\n",
       "      <td>3457</td>\n",
       "      <td>1</td>\n",
       "      <td>2010-12-08 12:46:00</td>\n",
       "      <td>17341.0</td>\n",
       "      <td>35</td>\n",
       "    </tr>\n",
       "    <tr>\n",
       "      <th>2</th>\n",
       "      <td>14653</td>\n",
       "      <td>604</td>\n",
       "      <td>694</td>\n",
       "      <td>36</td>\n",
       "      <td>2011-10-25 13:53:00</td>\n",
       "      <td>15158.0</td>\n",
       "      <td>35</td>\n",
       "    </tr>\n",
       "    <tr>\n",
       "      <th>3</th>\n",
       "      <td>8634</td>\n",
       "      <td>1478</td>\n",
       "      <td>3473</td>\n",
       "      <td>2</td>\n",
       "      <td>2011-06-27 12:38:00</td>\n",
       "      <td>16033.0</td>\n",
       "      <td>35</td>\n",
       "    </tr>\n",
       "    <tr>\n",
       "      <th>4</th>\n",
       "      <td>15546</td>\n",
       "      <td>3216</td>\n",
       "      <td>871</td>\n",
       "      <td>1</td>\n",
       "      <td>2011-11-06 16:14:00</td>\n",
       "      <td>15351.0</td>\n",
       "      <td>35</td>\n",
       "    </tr>\n",
       "  </tbody>\n",
       "</table>\n",
       "</div>"
      ],
      "text/plain": [
       "   InvoiceNo  StockCode  Description  Quantity          InvoiceDate  \\\n",
       "0       3139       1709         1079         3  2011-02-22 15:22:00   \n",
       "1        617        510         3457         1  2010-12-08 12:46:00   \n",
       "2      14653        604          694        36  2011-10-25 13:53:00   \n",
       "3       8634       1478         3473         2  2011-06-27 12:38:00   \n",
       "4      15546       3216          871         1  2011-11-06 16:14:00   \n",
       "\n",
       "   CustomerID  Country  \n",
       "0     16161.0       35  \n",
       "1     17341.0       35  \n",
       "2     15158.0       35  \n",
       "3     16033.0       35  \n",
       "4     15351.0       35  "
      ]
     },
     "execution_count": 56,
     "metadata": {},
     "output_type": "execute_result"
    }
   ],
   "source": [
    "#Read testing data\n",
    "Retail_test = pd.read_csv(\"Test.csv\")\n",
    "Retail_test.head()"
   ]
  },
  {
   "cell_type": "code",
   "execution_count": 57,
   "metadata": {},
   "outputs": [],
   "source": [
    "# Convert InvoiceDate to date-time\n",
    "Retail_test['InvoiceDate'] = pd.to_datetime(Retail_test['InvoiceDate'], format='%Y-%m-%d %H:%M:%S').dt.year"
   ]
  },
  {
   "cell_type": "code",
   "execution_count": 58,
   "metadata": {},
   "outputs": [],
   "source": [
    "Retail_test.drop('InvoiceNo',axis = 1,inplace = True)"
   ]
  },
  {
   "cell_type": "code",
   "execution_count": 59,
   "metadata": {},
   "outputs": [
    {
     "data": {
      "text/html": [
       "<div>\n",
       "<style scoped>\n",
       "    .dataframe tbody tr th:only-of-type {\n",
       "        vertical-align: middle;\n",
       "    }\n",
       "\n",
       "    .dataframe tbody tr th {\n",
       "        vertical-align: top;\n",
       "    }\n",
       "\n",
       "    .dataframe thead th {\n",
       "        text-align: right;\n",
       "    }\n",
       "</style>\n",
       "<table border=\"1\" class=\"dataframe\">\n",
       "  <thead>\n",
       "    <tr style=\"text-align: right;\">\n",
       "      <th></th>\n",
       "      <th>StockCode</th>\n",
       "      <th>Description</th>\n",
       "      <th>Quantity</th>\n",
       "      <th>InvoiceDate</th>\n",
       "      <th>CustomerID</th>\n",
       "      <th>Country</th>\n",
       "    </tr>\n",
       "  </thead>\n",
       "  <tbody>\n",
       "    <tr>\n",
       "      <th>0</th>\n",
       "      <td>1709</td>\n",
       "      <td>1079</td>\n",
       "      <td>3</td>\n",
       "      <td>2011</td>\n",
       "      <td>16161.0</td>\n",
       "      <td>35</td>\n",
       "    </tr>\n",
       "    <tr>\n",
       "      <th>1</th>\n",
       "      <td>510</td>\n",
       "      <td>3457</td>\n",
       "      <td>1</td>\n",
       "      <td>2010</td>\n",
       "      <td>17341.0</td>\n",
       "      <td>35</td>\n",
       "    </tr>\n",
       "    <tr>\n",
       "      <th>2</th>\n",
       "      <td>604</td>\n",
       "      <td>694</td>\n",
       "      <td>36</td>\n",
       "      <td>2011</td>\n",
       "      <td>15158.0</td>\n",
       "      <td>35</td>\n",
       "    </tr>\n",
       "    <tr>\n",
       "      <th>3</th>\n",
       "      <td>1478</td>\n",
       "      <td>3473</td>\n",
       "      <td>2</td>\n",
       "      <td>2011</td>\n",
       "      <td>16033.0</td>\n",
       "      <td>35</td>\n",
       "    </tr>\n",
       "    <tr>\n",
       "      <th>4</th>\n",
       "      <td>3216</td>\n",
       "      <td>871</td>\n",
       "      <td>1</td>\n",
       "      <td>2011</td>\n",
       "      <td>15351.0</td>\n",
       "      <td>35</td>\n",
       "    </tr>\n",
       "  </tbody>\n",
       "</table>\n",
       "</div>"
      ],
      "text/plain": [
       "   StockCode  Description  Quantity  InvoiceDate  CustomerID  Country\n",
       "0       1709         1079         3         2011     16161.0       35\n",
       "1        510         3457         1         2010     17341.0       35\n",
       "2        604          694        36         2011     15158.0       35\n",
       "3       1478         3473         2         2011     16033.0       35\n",
       "4       3216          871         1         2011     15351.0       35"
      ]
     },
     "execution_count": 59,
     "metadata": {},
     "output_type": "execute_result"
    }
   ],
   "source": [
    "Retail_test.head()"
   ]
  },
  {
   "cell_type": "code",
   "execution_count": 60,
   "metadata": {},
   "outputs": [
    {
     "data": {
      "text/plain": [
       "StockCode        int64\n",
       "Description      int64\n",
       "Quantity         int64\n",
       "InvoiceDate      int64\n",
       "CustomerID     float64\n",
       "Country          int64\n",
       "dtype: object"
      ]
     },
     "execution_count": 60,
     "metadata": {},
     "output_type": "execute_result"
    }
   ],
   "source": [
    "Retail_test.dtypes"
   ]
  },
  {
   "cell_type": "code",
   "execution_count": 61,
   "metadata": {},
   "outputs": [],
   "source": [
    "# apply the whole pipeline to data\n",
    "Final_test = Retail_test\n",
    "#\n",
    "test_pred = Model_logreg.predict(Final_test)"
   ]
  },
  {
   "cell_type": "code",
   "execution_count": 62,
   "metadata": {},
   "outputs": [
    {
     "data": {
      "text/plain": [
       "array([3.42318946, 1.52827494, 1.6811118 , 2.98939533, 5.80996825,\n",
       "       4.43160496, 1.07434085, 2.78594227, 4.39738623, 6.1031337 ])"
      ]
     },
     "execution_count": 62,
     "metadata": {},
     "output_type": "execute_result"
    }
   ],
   "source": [
    "test_pred[0:10]"
   ]
  },
  {
   "cell_type": "code",
   "execution_count": 63,
   "metadata": {},
   "outputs": [],
   "source": [
    "#Using pandas, one can do submission_df.to_csv('my_submission_file.csv', index=False)"
   ]
  },
  {
   "cell_type": "code",
   "execution_count": 64,
   "metadata": {},
   "outputs": [],
   "source": [
    "#submissions_df = pd.DataFrame({'UnitPrice': test_pred})\n",
    "#submissions_df.to_csv(\"my_submission_file.csv\", index=False)\n",
    "#submissions_df.head()"
   ]
  },
  {
   "cell_type": "code",
   "execution_count": 65,
   "metadata": {},
   "outputs": [
    {
     "name": "stdout",
     "output_type": "stream",
     "text": [
      "-0.0149856266001418\n"
     ]
    }
   ],
   "source": [
    "#Build KNN REGRESSOR MODEL NO 2\n",
    "knn_reg = KNeighborsRegressor(n_neighbors = 3,  weights = 'distance', p=1)\n",
    "knn_reg.fit(X_train, y_train)\n",
    "print(knn_reg.score(X_test, y_test ))   \n",
    "y_pred = knn_reg.predict(X_test)"
   ]
  },
  {
   "cell_type": "code",
   "execution_count": 66,
   "metadata": {},
   "outputs": [
    {
     "data": {
      "text/plain": [
       "array([1.65, 7.95, 0.42, ..., 0.42, 8.5 , 0.42])"
      ]
     },
     "execution_count": 66,
     "metadata": {},
     "output_type": "execute_result"
    }
   ],
   "source": [
    "y_pred"
   ]
  },
  {
   "cell_type": "code",
   "execution_count": 67,
   "metadata": {},
   "outputs": [],
   "source": [
    "# apply the whole pipeline to data\n",
    "Knn_test = Retail_test\n",
    "#\n",
    "test_pred_knn = knn_reg.predict(Knn_test)"
   ]
  },
  {
   "cell_type": "code",
   "execution_count": 68,
   "metadata": {},
   "outputs": [
    {
     "data": {
      "text/plain": [
       "array([ 1.65      ,  1.25      ,  3.89176663,  1.58382762, 12.75      ,\n",
       "        1.57081331,  2.95      ,  3.37472507,  2.05170319,  3.75      ])"
      ]
     },
     "execution_count": 68,
     "metadata": {},
     "output_type": "execute_result"
    }
   ],
   "source": [
    "test_pred_knn[0:10]"
   ]
  },
  {
   "cell_type": "code",
   "execution_count": 69,
   "metadata": {},
   "outputs": [
    {
     "data": {
      "text/html": [
       "<div>\n",
       "<style scoped>\n",
       "    .dataframe tbody tr th:only-of-type {\n",
       "        vertical-align: middle;\n",
       "    }\n",
       "\n",
       "    .dataframe tbody tr th {\n",
       "        vertical-align: top;\n",
       "    }\n",
       "\n",
       "    .dataframe thead th {\n",
       "        text-align: right;\n",
       "    }\n",
       "</style>\n",
       "<table border=\"1\" class=\"dataframe\">\n",
       "  <thead>\n",
       "    <tr style=\"text-align: right;\">\n",
       "      <th></th>\n",
       "      <th>UnitPrice</th>\n",
       "    </tr>\n",
       "  </thead>\n",
       "  <tbody>\n",
       "    <tr>\n",
       "      <th>0</th>\n",
       "      <td>1.650000</td>\n",
       "    </tr>\n",
       "    <tr>\n",
       "      <th>1</th>\n",
       "      <td>1.250000</td>\n",
       "    </tr>\n",
       "    <tr>\n",
       "      <th>2</th>\n",
       "      <td>3.891767</td>\n",
       "    </tr>\n",
       "    <tr>\n",
       "      <th>3</th>\n",
       "      <td>1.583828</td>\n",
       "    </tr>\n",
       "    <tr>\n",
       "      <th>4</th>\n",
       "      <td>12.750000</td>\n",
       "    </tr>\n",
       "  </tbody>\n",
       "</table>\n",
       "</div>"
      ],
      "text/plain": [
       "   UnitPrice\n",
       "0   1.650000\n",
       "1   1.250000\n",
       "2   3.891767\n",
       "3   1.583828\n",
       "4  12.750000"
      ]
     },
     "execution_count": 69,
     "metadata": {},
     "output_type": "execute_result"
    }
   ],
   "source": [
    "submissions_df = pd.DataFrame({'UnitPrice': test_pred_knn})\n",
    "submissions_df.to_csv(\"my_submission_file.csv\", index=False)\n",
    "submissions_df.head()"
   ]
  },
  {
   "cell_type": "code",
   "execution_count": 70,
   "metadata": {},
   "outputs": [],
   "source": [
    "#SAVING THE MODEL AS A PICKLE FILE"
   ]
  },
  {
   "cell_type": "code",
   "execution_count": 71,
   "metadata": {},
   "outputs": [],
   "source": [
    "import pickle"
   ]
  },
  {
   "cell_type": "code",
   "execution_count": 72,
   "metadata": {},
   "outputs": [],
   "source": [
    "with open('knn_model_pkl', 'wb') as f:\n",
    "    pickle.dump(knn_reg,f)"
   ]
  },
  {
   "cell_type": "code",
   "execution_count": 73,
   "metadata": {},
   "outputs": [],
   "source": [
    "import joblib"
   ]
  },
  {
   "cell_type": "code",
   "execution_count": 74,
   "metadata": {
    "scrolled": true
   },
   "outputs": [
    {
     "data": {
      "text/plain": [
       "['knn_model_joblib']"
      ]
     },
     "execution_count": 74,
     "metadata": {},
     "output_type": "execute_result"
    }
   ],
   "source": [
    "joblib.dump(knn_reg, 'knn_model_joblib')"
   ]
  },
  {
   "cell_type": "code",
   "execution_count": 75,
   "metadata": {},
   "outputs": [],
   "source": [
    "# save the model to disk\n",
    "filename = 'finalized_model.pkl'\n",
    "pickle.dump(knn_reg, open(filename, 'wb'))\n",
    "\n",
    " "
   ]
  },
  {
   "cell_type": "code",
   "execution_count": 77,
   "metadata": {},
   "outputs": [
    {
     "name": "stdout",
     "output_type": "stream",
     "text": [
      "-0.0149856266001418\n"
     ]
    }
   ],
   "source": [
    "# some time later...\n",
    " \n",
    "# load the model from disk\n",
    "loaded_model = pickle.load(open(filename, 'rb'))\n",
    "result = loaded_model.score(X_test, y_test)\n",
    "print(result)"
   ]
  },
  {
   "cell_type": "code",
   "execution_count": null,
   "metadata": {},
   "outputs": [],
   "source": []
  }
 ],
 "metadata": {
  "kernelspec": {
   "display_name": "Python 3",
   "language": "python",
   "name": "python3"
  },
  "language_info": {
   "codemirror_mode": {
    "name": "ipython",
    "version": 3
   },
   "file_extension": ".py",
   "mimetype": "text/x-python",
   "name": "python",
   "nbconvert_exporter": "python",
   "pygments_lexer": "ipython3",
   "version": "3.7.6"
  }
 },
 "nbformat": 4,
 "nbformat_minor": 4
}
